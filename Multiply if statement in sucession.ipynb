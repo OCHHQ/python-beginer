{
 "cells": [
  {
   "cell_type": "code",
   "execution_count": 19,
   "id": "24cd68ea",
   "metadata": {},
   "outputs": [
    {
     "name": "stdout",
     "output_type": "stream",
     "text": [
      "Welcome to Python Pizza Deliveries!\n",
      "What size pizza do you want? S, M, or L s\n",
      "Do you want pepperoni? Y or N n\n",
      "Do you want extra cheese? Y or N n\n",
      "final bill is: $15\n"
     ]
    }
   ],
   "source": [
    "print(\"Welcome to Python Pizza Deliveries!\")\n",
    "size = input(\"What size pizza do you want? S, M, or L \").lower()\n",
    "add_pepperoni = input(\"Do you want pepperoni? Y or N \")\n",
    "extra_cheese = input(\"Do you want extra cheese? Y or N \")\n",
    "\n",
    "bill = 0\n",
    "\n",
    "if size == \"s\":\n",
    "    bill += 15\n",
    "elif size == \"m\":\n",
    "    bill += 20\n",
    "elif size == \"l\":\n",
    "    bill += 25\n",
    "#add_pepproni\n",
    "\n",
    "if add_pepperoni == \"y\":\n",
    "    if add_pepperoni == \"s\":\n",
    "        bill += 2\n",
    "    else:\n",
    "        bill += 3\n",
    "#add extra_cheese\n",
    "if extra_cheese == \"y\":\n",
    "    bill += 1\n",
    "#print final \n",
    "print(f\"final bill is: ${bill}\")"
   ]
  },
  {
   "cell_type": "code",
   "execution_count": null,
   "id": "3acecead",
   "metadata": {},
   "outputs": [],
   "source": []
  }
 ],
 "metadata": {
  "kernelspec": {
   "display_name": "Python 3 (ipykernel)",
   "language": "python",
   "name": "python3"
  },
  "language_info": {
   "codemirror_mode": {
    "name": "ipython",
    "version": 3
   },
   "file_extension": ".py",
   "mimetype": "text/x-python",
   "name": "python",
   "nbconvert_exporter": "python",
   "pygments_lexer": "ipython3",
   "version": "3.10.9"
  }
 },
 "nbformat": 4,
 "nbformat_minor": 5
}
