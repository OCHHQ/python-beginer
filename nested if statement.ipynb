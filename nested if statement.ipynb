{
 "cells": [
  {
   "cell_type": "code",
   "execution_count": null,
   "id": "8da0799c",
   "metadata": {},
   "outputs": [
    {
     "name": "stdout",
     "output_type": "stream",
     "text": [
      "welcome to the rollercoaster: \n"
     ]
    },
    {
     "name": "stdin",
     "output_type": "stream",
     "text": [
      "what is your height in cm?  121\n"
     ]
    },
    {
     "name": "stdout",
     "output_type": "stream",
     "text": [
      "you can ride the rollercoaster\n"
     ]
    },
    {
     "name": "stdin",
     "output_type": "stream",
     "text": [
      "what is your age?  12\n"
     ]
    },
    {
     "name": "stdout",
     "output_type": "stream",
     "text": [
      "child ticket is $5\n"
     ]
    },
    {
     "name": "stdin",
     "output_type": "stream",
     "text": [
      "Do you want photo? Y or N. y\n"
     ]
    },
    {
     "name": "stdout",
     "output_type": "stream",
     "text": [
      "your final bill: $8\n"
     ]
    }
   ],
   "source": [
    "print(\"welcome to the rollercoaster: \")\n",
    "height = int(input(\"what is your height in cm? \"))\n",
    "\n",
    "bill = 0\n",
    "\n",
    "if height >= 120:\n",
    "    print(\"you can ride the rollercoaster\")\n",
    "    age = int(input(\"what is your age? \"))\n",
    "    if age <= 12:\n",
    "        bill = 5\n",
    "        print(\"child ticket is $5\")\n",
    "    elif age <= 18:\n",
    "        bill = 7\n",
    "        print(\"youth ticket is 7$\")\n",
    "    else:\n",
    "        bill = 12\n",
    "        print(\"Adult ticket is 12$\")\n",
    "        \n",
    "        \n",
    "    want_photo = input(\"Do you want photo? Y or N.\")\n",
    "    if want_photo == \"y\":\n",
    "        bill += 3\n",
    "        print(f\"your final bill: ${bill}\")\n",
    "    \n",
    "else:\n",
    "    print(\"sorry! you have to grow taller to ride.\")"
   ]
  },
  {
   "cell_type": "code",
   "execution_count": 4,
   "id": "42d14425",
   "metadata": {},
   "outputs": [
    {
     "name": "stdout",
     "output_type": "stream",
     "text": [
      "enter your name: c\n",
      "enter your height in m:7\n",
      "enter weight in kg: 80\n",
      "c,your BMI is 2 you are underweight \n"
     ]
    }
   ],
   "source": [
    "name = input(\"enter your name: \")\n",
    "height = float(input(\"enter your height in m:\"))\n",
    "weight = float(input(\"enter weight in kg: \"))\n",
    "BMI = 23\n",
    "BMI = round(weight / height**2)\n",
    "if BMI < 18.5:\n",
    "    print(f\"{name},your BMI is {BMI} you are underweight \")\n",
    "elif BMI < 25:\n",
    "    print(f\"{name},your BMI is {BMI} you have normal weight\")\n",
    "elif BMI < 30:\n",
    "    print(f\"{name},your BMI is {BMI} you are slightly overweight\")\n",
    "elif BMI < 35:\n",
    "    print(f\"{name},your BMI is {BMI} you are obese\")\n",
    "else:\n",
    "    print(f\"{name},your BMI is {BMI} you are clincally obese\")"
   ]
  },
  {
   "cell_type": "code",
   "execution_count": 5,
   "id": "e9011b32",
   "metadata": {},
   "outputs": [
    {
     "name": "stdout",
     "output_type": "stream",
     "text": [
      "what year do you intend to check?: 2024\n",
      "leap year\n"
     ]
    }
   ],
   "source": [
    "year = int(input(\"what year do you intend to check?: \"))\n",
    "if year % 4 == 0:\n",
    "    if year % 100 == 0:\n",
    "        if year % 400 == 0:\n",
    "            print(\"leap year\")\n",
    "        else:\n",
    "            print(\"not leap year\")\n",
    "    else:\n",
    "        print(\"leap year\")\n",
    "else:\n",
    "    print(\"not leap year\")\n",
    "    "
   ]
  },
  {
   "cell_type": "code",
   "execution_count": null,
   "id": "e788f272",
   "metadata": {},
   "outputs": [],
   "source": []
  }
 ],
 "metadata": {
  "kernelspec": {
   "display_name": "Python 3 (ipykernel)",
   "language": "python",
   "name": "python3"
  },
  "language_info": {
   "codemirror_mode": {
    "name": "ipython",
    "version": 3
   },
   "file_extension": ".py",
   "mimetype": "text/x-python",
   "name": "python",
   "nbconvert_exporter": "python",
   "pygments_lexer": "ipython3",
   "version": "3.10.9"
  }
 },
 "nbformat": 4,
 "nbformat_minor": 5
}
