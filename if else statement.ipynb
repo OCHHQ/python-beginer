{
 "cells": [
  {
   "cell_type": "code",
   "execution_count": 3,
   "id": "cfea338f",
   "metadata": {},
   "outputs": [
    {
     "name": "stdout",
     "output_type": "stream",
     "text": [
      "not sure don't move\n"
     ]
    }
   ],
   "source": [
    "a = 9\n",
    "b = 2\n",
    "if a < b:\n",
    "    print(\"a is less than be proceed\")\n",
    "print(\"not sure don't move\")"
   ]
  },
  {
   "cell_type": "code",
   "execution_count": 5,
   "id": "830d4a49",
   "metadata": {},
   "outputs": [
    {
     "name": "stdout",
     "output_type": "stream",
     "text": [
      "c is not less than d\n",
      "outside lock\n"
     ]
    }
   ],
   "source": [
    "c = 9\n",
    "d = 4\n",
    "if c < d:\n",
    "    print(\"c is less than d\")\n",
    "else:\n",
    "    print(\"c is not less than d\")\n",
    "print(\"outside lock\")"
   ]
  },
  {
   "cell_type": "code",
   "execution_count": 7,
   "id": "554f8666",
   "metadata": {},
   "outputs": [
    {
     "name": "stdout",
     "output_type": "stream",
     "text": [
      "e is equal f\n"
     ]
    }
   ],
   "source": [
    "e = 8\n",
    "f = 8\n",
    "if e < f:\n",
    "    print(\"e is less than f\")\n",
    "elif e == f:\n",
    "    print(\"e is equal f\")\n",
    "else:\n",
    "    print(\"e is greater f\")"
   ]
  },
  {
   "cell_type": "code",
   "execution_count": 11,
   "id": "ff81e343",
   "metadata": {},
   "outputs": [
    {
     "name": "stdout",
     "output_type": "stream",
     "text": [
      "g is less than h\n"
     ]
    }
   ],
   "source": [
    "g = 9\n",
    "h = 10\n",
    "if g < h:\n",
    "    print(\"g is less than h\")\n",
    "else:\n",
    "    if g == h:\n",
    "        print(\"g is equal h\")\n",
    "    else:\n",
    "        print(\"g is greater than h\")"
   ]
  },
  {
   "cell_type": "code",
   "execution_count": 9,
   "id": "b2502fb5",
   "metadata": {},
   "outputs": [
    {
     "name": "stdout",
     "output_type": "stream",
     "text": [
      "bmi:  22.5\n",
      "collins\n",
      "is not overweight\n"
     ]
    }
   ],
   "source": [
    "name = \"collins\"\n",
    "height_m = 2\n",
    "weight_kg = 90\n",
    "\n",
    "bmi = weight_kg / (height_m ** 2)\n",
    "print(\"bmi: \",bmi)\n",
    "if bmi < 25:\n",
    "    print(name)\n",
    "    print(\"is not overweight\")\n",
    "else:\n",
    "    print(name)\n",
    "    print(\"is overweight\")"
   ]
  },
  {
   "cell_type": "code",
   "execution_count": 8,
   "id": "73270699",
   "metadata": {},
   "outputs": [
    {
     "name": "stdout",
     "output_type": "stream",
     "text": [
      "which number do want to enter: 9\n",
      "this is an even number\n"
     ]
    }
   ],
   "source": [
    "number = int(input(\"which number do want to enter: \"))\n",
    "if number % 3 == 0:\n",
    "    print(\"this is an even number\")\n",
    "else:\n",
    "    print(\"odd number\")"
   ]
  },
  {
   "cell_type": "code",
   "execution_count": 5,
   "id": "cd3f50ba",
   "metadata": {},
   "outputs": [
    {
     "name": "stdout",
     "output_type": "stream",
     "text": [
      "It is morning\n"
     ]
    }
   ],
   "source": [
    "import datetime\n",
    "\n",
    "now = datetime.datetime.now()\n",
    "\n",
    "if now.hour < 12:\n",
    "  print(\"It is morning\")\n",
    "else:\n",
    "  print(\"It is afternoon\")"
   ]
  },
  {
   "cell_type": "code",
   "execution_count": null,
   "id": "45558787",
   "metadata": {},
   "outputs": [],
   "source": []
  }
 ],
 "metadata": {
  "kernelspec": {
   "display_name": "Python 3 (ipykernel)",
   "language": "python",
   "name": "python3"
  },
  "language_info": {
   "codemirror_mode": {
    "name": "ipython",
    "version": 3
   },
   "file_extension": ".py",
   "mimetype": "text/x-python",
   "name": "python",
   "nbconvert_exporter": "python",
   "pygments_lexer": "ipython3",
   "version": "3.10.9"
  }
 },
 "nbformat": 4,
 "nbformat_minor": 5
}
